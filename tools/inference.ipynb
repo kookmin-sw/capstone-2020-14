{
 "cells": [
  {
   "cell_type": "code",
   "execution_count": 1,
   "metadata": {},
   "outputs": [],
   "source": [
    "import os\n",
    "TestImageDir = \"../DATASET/SeekShot/\"\n",
    "Fiels = os.listdir(TestImageDir)\n",
    "\n",
    "#TestImageDir = \"../DATASET/FLIR/video/AnnotatedPreviewData/\"\n",
    "imageNum = 50\n",
    "imageIdx = [4,5,6,9]\n",
    "Modeldir = \"../Model/FasterRCNN/ModelSample/\"\n",
    "ModelEpoch = 20\n",
    "saveDir = \"../Results/Video/Sample/\"\n",
    "ZIP = True\n",
    "batchSize = 2"
   ]
  },
  {
   "cell_type": "code",
   "execution_count": 2,
   "metadata": {},
   "outputs": [],
   "source": [
    "import numpy as np\n",
    "from matplotlib import pyplot as plt\n",
    "from PIL import Image\n",
    "import torch.utils.data\n",
    "import torch.nn as nn\n",
    "import torch\n",
    "import torchvision\n",
    "from torchvision.models.detection.faster_rcnn import FastRCNNPredictor\n",
    "from torchvision.transforms import ToTensor\n",
    "#from tqdm.notebook import tqdm\n",
    "from tqdm import tqdm\n",
    "import os\n",
    "import json\n",
    "import utils"
   ]
  },
  {
   "cell_type": "code",
   "execution_count": null,
   "metadata": {},
   "outputs": [],
   "source": [
    "class Dataset(torch.utils.data.Dataset):\n",
    "    def __init__(self, root, transforms=None):\n",
    "        self.root = root\n",
    "        self.transforms = transforms\n",
    "        self.imgs = list(sorted(os.listdir(os.path.join(root))))\n",
    "        self.Kimg = []\n",
    "    def __getitem__(self, idx):\n",
    "        img_path = os.path.join(self.root,  self.imgs[idx])\n",
    "        img = Image.open(img_path).convert(\"RGB\")\n",
    "        target = []\n",
    "        \n",
    "        if self.transforms is not None:\n",
    "            img = self.transforms(img, target)\n",
    "        return img\n",
    "\n",
    "    def __len__(self):\n",
    "        return len(self.imgs)"
   ]
  },
  {
   "cell_type": "code",
   "execution_count": null,
   "metadata": {},
   "outputs": [],
   "source": [
    "def get_transform(train):\n",
    "    transforms = []\n",
    "    transforms.append(T.ToTensor())\n",
    "    if train:\n",
    "        transforms.append(T.RandomHorizontalFlip(0.5))\n",
    "    return T.Compose(transforms)"
   ]
  },
  {
   "cell_type": "code",
   "execution_count": null,
   "metadata": {},
   "outputs": [],
   "source": [
    "def get_instance_segmentation_model(num_classes):\n",
    "    model = torchvision.models.detection.fasterrcnn_resnet50_fpn(pretrained=False, \n",
    "                                                                 box_nms_thresh = 0.35)\n",
    "    \n",
    "    in_features = model.roi_heads.box_predictor.cls_score.in_features\n",
    "    model.roi_heads.box_predictor = FastRCNNPredictor(in_features, num_classes)\n",
    "    \n",
    "    return model"
   ]
  },
  {
   "cell_type": "code",
   "execution_count": null,
   "metadata": {},
   "outputs": [],
   "source": [
    "dataset_test = Dataset(TestImageDir, None)\n",
    "#indices = torch.randperm(len(dataset_test)).tolist()\n",
    "indices = [i for i in range(len(dataset_test))]\n",
    "dataset_test = torch.utils.data.Subset(dataset_test, indices[0:-1])\n",
    "data_loader_test = torch.utils.data.DataLoader(\n",
    "    dataset_test, batch_size=2, shuffle=False, num_workers=1,\n",
    "    collate_fn=utils.collate_fn)"
   ]
  },
  {
   "cell_type": "code",
   "execution_count": null,
   "metadata": {},
   "outputs": [],
   "source": [
    "device = torch.device(\"cuda\" if torch.cuda.is_available() else \"cpu\")\n",
    "model = get_instance_segmentation_model(6)\n",
    "model.load_state_dict(torch.load(Modeldir + \"epoch\" + str(ModelEpoch) + \".pth\"))"
   ]
  },
  {
   "cell_type": "code",
   "execution_count": null,
   "metadata": {},
   "outputs": [],
   "source": [
    "model.to(device)\n",
    "try:\n",
    "    os.mkdir(saveDir)\n",
    "except OSError:\n",
    "    pass\n",
    "\n",
    "file_list = sorted(os.listdir(TestImageDir + Fiels[0]))\n",
    "file_list[:4]"
   ]
  },
  {
   "cell_type": "code",
   "execution_count": null,
   "metadata": {},
   "outputs": [],
   "source": [
    "for j in tqdm(range(len(dataset_test))):\n",
    "    img = ToTensor()(dataset_test[j])\n",
    "    model.eval()\n",
    "    with torch.no_grad():\n",
    "        prediction = model([img.to(device)])\n",
    "\n",
    "\n",
    "    plt.figure(figsize = (15,15))\n",
    "    plt.imshow(img.permute(1, 2, 0))\n",
    "\n",
    "    color_set = ['w','r','b','y','g','m']  #각 클래스별로 다른 색깔\n",
    "    The_boxes = (prediction[0]['boxes']).tolist()\n",
    "    this_labels = (prediction[0]['labels']).tolist()\n",
    "    \n",
    "    for i, box in enumerate(The_boxes):\n",
    "      x_values = [box[0], box[0], box[2], box[2], box[0]]\n",
    "      y_values = [box[1], box[3], box[3], box[1], box[1]]\n",
    "      plt.plot(x_values, y_values, linewidth = 3, color = color_set[this_labels[i]])\n",
    "\n",
    "    plt.savefig(saveDir + 'result_'+ file_list[j], bbox_inches=\"tight\")\n",
    "    plt.close()"
   ]
  },
  {
   "cell_type": "code",
   "execution_count": null,
   "metadata": {},
   "outputs": [],
   "source": []
  },
  {
   "cell_type": "code",
   "execution_count": null,
   "metadata": {},
   "outputs": [],
   "source": []
  },
  {
   "cell_type": "code",
   "execution_count": null,
   "metadata": {},
   "outputs": [],
   "source": []
  }
 ],
 "metadata": {
  "kernelspec": {
   "display_name": "Python 3",
   "language": "python",
   "name": "python3"
  },
  "language_info": {
   "codemirror_mode": {
    "name": "ipython",
    "version": 3
   },
   "file_extension": ".py",
   "mimetype": "text/x-python",
   "name": "python",
   "nbconvert_exporter": "python",
   "pygments_lexer": "ipython3",
   "version": "3.6.10"
  }
 },
 "nbformat": 4,
 "nbformat_minor": 4
}
