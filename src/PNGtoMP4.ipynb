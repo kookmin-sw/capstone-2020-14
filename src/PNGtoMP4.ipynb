{
 "cells": [
  {
   "cell_type": "code",
   "execution_count": 6,
   "metadata": {
    "ExecuteTime": {
     "end_time": "2020-06-05T16:57:06.297121Z",
     "start_time": "2020-06-05T16:57:06.287046Z"
    }
   },
   "outputs": [],
   "source": [
    "from tqdm import tqdm\n",
    "\n",
    "def img2mp4(path, pathOut , fps =10 ) :\n",
    "    import cv2\n",
    "    import os\n",
    "    file_list = os.listdir(path)\n",
    "    file_list.sort()\n",
    "    file_list = file_list[:-1]\n",
    "    frame_array = []\n",
    "    for idx , file in tqdm(enumerate(file_list)):\n",
    "        img = cv2.imread(path + '/'+ file)\n",
    "        height, width, layers = img.shape\n",
    "        size = (width,height)\n",
    "        frame_array.append(img)\n",
    "    out = cv2.VideoWriter(pathOut,cv2.VideoWriter_fourcc(*'DIVX'), fps, size)\n",
    "    for i in range(len(frame_array)):\n",
    "        # writing to a image array\n",
    "        out.write(frame_array[i])\n",
    "    out.release()"
   ]
  },
  {
   "cell_type": "code",
   "execution_count": 10,
   "metadata": {
    "ExecuteTime": {
     "end_time": "2020-06-05T17:03:37.944658Z",
     "start_time": "2020-06-05T17:03:29.200607Z"
    }
   },
   "outputs": [
    {
     "name": "stderr",
     "output_type": "stream",
     "text": [
      "1590it [00:05, 293.65it/s]\n"
     ]
    }
   ],
   "source": [
    "import os\n",
    "\n",
    "\n",
    "img2mp4(\"../../../LeeMyungHak/EfficientDet/Test/D3\", \"D3.mp4\", fps = 4)"
   ]
  },
  {
   "cell_type": "code",
   "execution_count": 11,
   "metadata": {
    "ExecuteTime": {
     "end_time": "2020-06-05T17:03:45.730234Z",
     "start_time": "2020-06-05T17:03:37.945855Z"
    }
   },
   "outputs": [
    {
     "name": "stderr",
     "output_type": "stream",
     "text": [
      "1359it [00:04, 306.68it/s]\n"
     ]
    }
   ],
   "source": [
    "img2mp4(\"../../../LeeMyungHak/EfficientDet/Test/D4\", \"D4.mp4\", fps = 4)"
   ]
  },
  {
   "cell_type": "code",
   "execution_count": null,
   "metadata": {},
   "outputs": [],
   "source": []
  }
 ],
 "metadata": {
  "kernelspec": {
   "display_name": "Python 3",
   "language": "python",
   "name": "python3"
  },
  "language_info": {
   "codemirror_mode": {
    "name": "ipython",
    "version": 3
   },
   "file_extension": ".py",
   "mimetype": "text/x-python",
   "name": "python",
   "nbconvert_exporter": "python",
   "pygments_lexer": "ipython3",
   "version": "3.7.6"
  },
  "toc": {
   "base_numbering": 1,
   "nav_menu": {},
   "number_sections": false,
   "sideBar": true,
   "skip_h1_title": false,
   "title_cell": "Table of Contents",
   "title_sidebar": "Contents",
   "toc_cell": false,
   "toc_position": {},
   "toc_section_display": true,
   "toc_window_display": false
  }
 },
 "nbformat": 4,
 "nbformat_minor": 2
}
