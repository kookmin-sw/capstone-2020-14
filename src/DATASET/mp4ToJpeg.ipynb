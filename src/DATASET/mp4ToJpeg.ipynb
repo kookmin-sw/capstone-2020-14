{
 "cells": [
  {
   "cell_type": "code",
   "execution_count": 2,
   "metadata": {
    "ExecuteTime": {
     "end_time": "2020-04-23T17:51:41.246761Z",
     "start_time": "2020-04-23T17:51:28.540726Z"
    }
   },
   "outputs": [],
   "source": [
    "import cv2\n",
    "import os\n",
    "\n",
    "file_dir = \"SeekShot4/\"\n",
    "file_list = os.listdir(file_dir)\n",
    "\n",
    "for file in file_list:\n",
    "\n",
    "    folder_name = file.split(\".\")[0]\n",
    "    !mkdir {file_dir}{folder_name}\n",
    "\n",
    "    vidcap = cv2.VideoCapture(file_dir + file)\n",
    "    success,image = vidcap.read()\n",
    "    count = 0\n",
    "    success = True\n",
    "\n",
    "    i = 0\n",
    "    while success:\n",
    "        vidcap.set(cv2.CAP_PROP_POS_MSEC,1000 + count*100)\n",
    "        success,image = vidcap.read()\n",
    "\n",
    "        \n",
    "        if not success:\n",
    "            break\n",
    "        cv2.imwrite(f\"{file_dir}{folder_name}/{str(count).zfill(5)}.png\", image)     # save frame as JPEG file\n",
    "        count += 1\n",
    "\n",
    "\n",
    "\n"
   ]
  },
  {
   "cell_type": "code",
   "execution_count": 3,
   "metadata": {
    "ExecuteTime": {
     "end_time": "2020-04-23T17:52:23.094947Z",
     "start_time": "2020-04-23T17:52:22.897085Z"
    }
   },
   "outputs": [],
   "source": [
    "\n",
    "!rm {file_dir}*mp4"
   ]
  },
  {
   "cell_type": "code",
   "execution_count": null,
   "metadata": {},
   "outputs": [],
   "source": []
  }
 ],
 "metadata": {
  "kernelspec": {
   "display_name": "Python 3",
   "language": "python",
   "name": "python3"
  },
  "language_info": {
   "codemirror_mode": {
    "name": "ipython",
    "version": 3
   },
   "file_extension": ".py",
   "mimetype": "text/x-python",
   "name": "python",
   "nbconvert_exporter": "python",
   "pygments_lexer": "ipython3",
   "version": "3.7.6"
  },
  "toc": {
   "base_numbering": 1,
   "nav_menu": {},
   "number_sections": false,
   "sideBar": true,
   "skip_h1_title": false,
   "title_cell": "Table of Contents",
   "title_sidebar": "Contents",
   "toc_cell": false,
   "toc_position": {},
   "toc_section_display": true,
   "toc_window_display": false
  }
 },
 "nbformat": 4,
 "nbformat_minor": 2
}
