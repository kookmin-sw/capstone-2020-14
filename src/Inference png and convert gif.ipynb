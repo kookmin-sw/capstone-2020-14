{
 "cells": [
  {
   "cell_type": "code",
   "execution_count": 21,
   "metadata": {
    "ExecuteTime": {
     "end_time": "2020-04-22T18:51:19.710433Z",
     "start_time": "2020-04-22T18:48:43.127102Z"
    }
   },
   "outputs": [
    {
     "name": "stdout",
     "output_type": "stream",
     "text": [
      "mkdir: cannot create directory ‘Results/Images/SeekShot3’: File exists\n",
      "100%|███████████████████████████████████████████| 83/83 [00:34<00:00,  2.39it/s]\n",
      "100%|███████████████████████████████████████████| 49/49 [00:20<00:00,  2.41it/s]\n",
      "100%|█████████████████████████████████████████| 162/162 [01:06<00:00,  2.44it/s]\n",
      "100%|███████████████████████████████████████████| 49/49 [00:20<00:00,  2.40it/s]\n"
     ]
    }
   ],
   "source": [
    "import os\n",
    "folder_name = \"SeekShot3\"\n",
    "\n",
    "file_list = os.listdir(\"DATASET/\" + folder_name)\n",
    "!mkdir Results/Images/{folder_name}\n",
    "for file in file_list:\n",
    "    TestImageDir = \"DATASET/\"+ folder_name +\"/\" + file\n",
    "    saveDir =  \"Results/Images/\"+folder_name+\"/\" + file + \"/\"\n",
    "    !python tools/inference.py --TestImageDir={TestImageDir} --Modeldir=\"Model/FasterRCNN/ModelSample/\" --saveDir={saveDir} --ModelEpoch 20\n",
    "    \n",
    "\n",
    "\n",
    "\n"
   ]
  },
  {
   "cell_type": "code",
   "execution_count": 22,
   "metadata": {
    "ExecuteTime": {
     "end_time": "2020-04-22T18:52:00.686556Z",
     "start_time": "2020-04-22T18:51:19.712385Z"
    }
   },
   "outputs": [
    {
     "name": "stdout",
     "output_type": "stream",
     "text": [
      "mkdir: cannot create directory ‘SeekShot3/’: File exists\n",
      "====================================================================================================\n",
      "remove pngs\n",
      "sh: 1: convert: not found\n",
      "83it [00:02, 35.17it/s]\n",
      "Generating Image in pngs\n",
      "SeekShot3/Results/Images/SeekShot3/ezgif-3-6f1abfb8f41e-jpg/\n",
      "====================================================================================================\n",
      "remove pngs\n",
      "sh: 1: convert: not found\n",
      "49it [00:01, 40.46it/s]\n",
      "Generating Image in pngs\n",
      "SeekShot3/Results/Images/SeekShot3/ezgif-3-ababa928c93a-jpg/\n",
      "====================================================================================================\n",
      "remove pngs\n",
      "sh: 1: convert: not found\n",
      "162it [00:03, 41.17it/s]\n",
      "Generating Image in pngs\n",
      "SeekShot3/Results/Images/SeekShot3/ezgif-3-7c2e670f3fbe-jpg/\n",
      "====================================================================================================\n",
      "remove pngs\n",
      "sh: 1: convert: not found\n",
      "49it [00:01, 38.99it/s]\n",
      "Generating Image in pngs\n",
      "SeekShot3/Results/Images/SeekShot3/ezgif-3-adca414fd713-jpg/\n"
     ]
    }
   ],
   "source": [
    "import os\n",
    "file_list = os.listdir(\"DATASET/\" + folder_name)\n",
    "save_dir = folder_name + \"/\"\n",
    "!mkdir {save_dir}\n",
    "for file in (file_list):\n",
    "    print(\"=\"*100)\n",
    "    ImagePath = \"Results/Images/\"+folder_name+\"/\" + file + \"/\"\n",
    "    GifName = save_dir + file\n",
    "    !rm pngs/*\n",
    "    print(\"remove pngs\")\n",
    "    !python tools/ConvertJpgToGif.py --ImagePath {ImagePath} --GifName {GifName}\n",
    "    print(save_dir + ImagePath)\n"
   ]
  },
  {
   "cell_type": "code",
   "execution_count": 10,
   "metadata": {
    "ExecuteTime": {
     "end_time": "2020-04-22T15:14:38.351079Z",
     "start_time": "2020-04-22T15:14:38.346744Z"
    }
   },
   "outputs": [
    {
     "name": "stdout",
     "output_type": "stream",
     "text": [
      "/workspace/CAPSTONE/capstone-2020-14/src\n"
     ]
    }
   ],
   "source": []
  },
  {
   "cell_type": "code",
   "execution_count": 11,
   "metadata": {
    "ExecuteTime": {
     "end_time": "2020-04-22T15:14:40.479472Z",
     "start_time": "2020-04-22T15:14:40.283791Z"
    }
   },
   "outputs": [
    {
     "name": "stdout",
     "output_type": "stream",
     "text": [
      " DATASET\t\t        ezgif-3-b91dd0d5068c-jpg.gif\r\n",
      " ezgif-3-0a2dd07edceb-jpg.gif  'Inference png and convert gif.ipynb'\r\n",
      " ezgif-3-117a219dfdf4-jpg.gif   jetson_tx2_board\r\n",
      " ezgif-3-19cdc18666bd-jpg.gif   Model\r\n",
      " ezgif-3-2507c12eeac2-jpg.gif   persone.gif\r\n",
      " ezgif-3-38977c1ac56b-jpg.gif   Results\r\n",
      " ezgif-3-667f13ac9d4e-jpg.gif   SeekShot2\r\n",
      " ezgif-3-6c5f905c9c9a-jpg.gif   tools\r\n",
      " ezgif-3-6f8aae32c52b-jpg.gif   webpage\r\n",
      " ezgif-3-768f6e420f21-jpg.gif\r\n"
     ]
    }
   ],
   "source": [
    "!ls"
   ]
  },
  {
   "cell_type": "code",
   "execution_count": null,
   "metadata": {},
   "outputs": [],
   "source": []
  }
 ],
 "metadata": {
  "kernelspec": {
   "display_name": "Python 3",
   "language": "python",
   "name": "python3"
  },
  "language_info": {
   "codemirror_mode": {
    "name": "ipython",
    "version": 3
   },
   "file_extension": ".py",
   "mimetype": "text/x-python",
   "name": "python",
   "nbconvert_exporter": "python",
   "pygments_lexer": "ipython3",
   "version": "3.7.6"
  },
  "toc": {
   "base_numbering": 1,
   "nav_menu": {},
   "number_sections": false,
   "sideBar": true,
   "skip_h1_title": false,
   "title_cell": "Table of Contents",
   "title_sidebar": "Contents",
   "toc_cell": false,
   "toc_position": {},
   "toc_section_display": true,
   "toc_window_display": false
  }
 },
 "nbformat": 4,
 "nbformat_minor": 2
}
