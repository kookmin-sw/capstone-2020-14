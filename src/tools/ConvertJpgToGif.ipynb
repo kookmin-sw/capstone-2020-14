{
 "cells": [
  {
   "cell_type": "code",
   "execution_count": null,
   "metadata": {},
   "outputs": [],
   "source": [
    "import os\n",
    "os.system('convert -delay 15 -loop 0  ./pngs/*.png ./UI.gif')\n",
    "from PIL import Image\n",
    "import cv2\n",
    "from tqdm import tqdm\n",
    "result = []\n",
    "Image_dir = \"../Results/Video/Sample/\"\n",
    "paths = os.listdir(Image_dir)\n",
    "paths.sort()\n",
    "paths = paths[0:200]\n",
    "print(paths)\n",
    "for idx , path in tqdm(enumerate(paths)):\n",
    "    img = cv2.imread(Image_dir + path)\n",
    "    img = cv2.resize(img , (320, 240) , interpolation = cv2.INTER_AREA)\n",
    "    result.append(img)\n",
    "    name = path.split(\".\")[0]\n",
    "    cv2.imwrite(f'pngs/{name}.png' , img)    \n",
    "    "
   ]
  },
  {
   "cell_type": "code",
   "execution_count": null,
   "metadata": {},
   "outputs": [],
   "source": [
    "import matplotlib.pyplot as plt\n",
    "import numpy as np\n",
    "import imageio\n",
    "from PIL import Image\n",
    "import matplotlib.image as mpimg\n",
    "path = [f\"./pngs/{i}\" for i in os.listdir(\"./pngs\")]\n",
    "paths = [Image.open(i) for i in path]\n",
    "imageio.mimsave('./example_class.gif', paths, fps=15)"
   ]
  }
 ],
 "metadata": {
  "kernelspec": {
   "display_name": "Python 3",
   "language": "python",
   "name": "python3"
  },
  "language_info": {
   "codemirror_mode": {
    "name": "ipython",
    "version": 3
   },
   "file_extension": ".py",
   "mimetype": "text/x-python",
   "name": "python",
   "nbconvert_exporter": "python",
   "pygments_lexer": "ipython3",
   "version": "3.7.6"
  },
  "toc": {
   "base_numbering": 1,
   "nav_menu": {},
   "number_sections": false,
   "sideBar": true,
   "skip_h1_title": false,
   "title_cell": "Table of Contents",
   "title_sidebar": "Contents",
   "toc_cell": false,
   "toc_position": {},
   "toc_section_display": true,
   "toc_window_display": false
  }
 },
 "nbformat": 4,
 "nbformat_minor": 2
}
